{
 "cells": [
  {
   "cell_type": "markdown",
   "metadata": {},
   "source": [
    "Paquetes necesarios"
   ]
  },
  {
   "cell_type": "code",
   "execution_count": 5,
   "metadata": {},
   "outputs": [],
   "source": [
    "import cv2  \n",
    "import numpy as np\n",
    "import matplotlib.pyplot as plt"
   ]
  },
  {
   "cell_type": "markdown",
   "metadata": {},
   "source": [
    "TAREA: Crea una imagen, p.e. de 800x800 píxeles, con la textura del tablero de ajedrez"
   ]
  },
  {
   "cell_type": "code",
   "execution_count": 2,
   "metadata": {},
   "outputs": [
    {
     "name": "stdout",
     "output_type": "stream",
     "text": [
      "(800, 800, 3)\n"
     ]
    },
    {
     "data": {
      "image/png": "[encoded data removed]",
      "text/plain": [
       "<Figure size 640x480 with 1 Axes>"
      ]
     },
     "metadata": {},
     "output_type": "display_data"
    }
   ],
   "source": [
    "#Crea una imagen con tres planos\n",
    "color_img = np.zeros((800,800,3), dtype = np.uint8)\n",
    "#Dimensiones\n",
    "for i in range(8):\n",
    "    for j in range(8):\n",
    "        if (i+j)%2==0:\n",
    "            color_img[i*100:(i+1)*100, j*100:(j+1)*100] = 255\n",
    "print(color_img.shape)\n",
    "#Visualiza con matplotlib (sin especificar el mapa de color gris)\n",
    "plt.imshow(color_img) \n",
    "plt.show()"
   ]
  },
  {
   "cell_type": "markdown",
   "metadata": {},
   "source": [
    "TAREA: Crear una imagen estilo Mondrian (un ejemplo https://www3.gobiernodecanarias.org/medusa/ecoescuela/sa/2017/04/17/descubriendo-a-mondrian/ )"
   ]
  },
  {
   "cell_type": "code",
   "execution_count": 5,
   "metadata": {},
   "outputs": [
    {
     "data": {
      "image/png": "[encoded data removed]",
      "text/plain": [
       "<Figure size 640x480 with 1 Axes>"
      ]
     },
     "metadata": {},
     "output_type": "display_data"
    }
   ],
   "source": [
    "#Dimensiones de la imagen a crear\n",
    "ancho = 400\n",
    "alto = 400\n",
    "\n",
    "# Crear una imagen en blanco (fondo blanco)\n",
    "mondrian_img = np.full((alto, ancho, 3), 0, dtype=np.uint8)\n",
    "\n",
    "# Definir colores\n",
    "blanco = (255, 255, 255)\n",
    "azul = (255, 0, 0)\n",
    "amarillo = (0, 255, 255)\n",
    "rojo = (0, 0, 255)\n",
    "negro = (0, 0, 0)\n",
    "\n",
    "# Dibujar los rectángulos de color\n",
    "cv2.rectangle(mondrian_img, (0, 0), (100, 200), amarillo, -1)  # Amarillo\n",
    "cv2.rectangle(mondrian_img, (0, 200), (100, 300), azul, -1)    # Azul\n",
    "cv2.rectangle(mondrian_img, (0, 300), (100, 400), blanco, -1)  # Blanco \n",
    "cv2.rectangle(mondrian_img, (100, 0), (400, 300), rojo, -1)    # Rojo \n",
    "cv2.rectangle(mondrian_img, (100, 400), (400, 300), azul, -1)    # Azul \n",
    "cv2.rectangle(mondrian_img, (350, 400), (400, 300), amarillo, -1)    # Amarillo\n",
    "\n",
    "# Dibujar líneas negras \n",
    "grosor_linea = 10\n",
    "cv2.line(mondrian_img, (0, 200), (100, 200), negro, grosor_linea)  # Línea horizontal\n",
    "cv2.line(mondrian_img, (0, 300), (400, 300), negro, grosor_linea)  # Línea horizontal inferior\n",
    "cv2.line(mondrian_img, (100, 0), (100, 400), negro, grosor_linea)  # Línea vertical derecha\n",
    "cv2.line(mondrian_img, (350, 300), (350, 400), negro, grosor_linea)  # Línea vertical derecha\n",
    "\n",
    "# Mostrar la imagen\n",
    "\n",
    "plt.imshow(cv2.cvtColor(mondrian_img, cv2.COLOR_BGR2RGB))\n",
    "plt.axis('off')  # Ocultar ejes\n",
    "plt.show()"
   ]
  },
  {
   "cell_type": "markdown",
   "metadata": {},
   "source": [
    "TAREA: Modifica de forma libre los valores de un plano de la imagen inspirad en \"Separa los tres planos de la imagen captada por la webcam y muestra en horizontal\""
   ]
  },
  {
   "cell_type": "code",
   "execution_count": 6,
   "metadata": {},
   "outputs": [],
   "source": [
    "# Captura de video desde la cámara\n",
    "vid = cv2.VideoCapture(0)\n",
    "\n",
    "while True:\n",
    "    # Captura fotograma a fotograma\n",
    "    ret, frame = vid.read()\n",
    "\n",
    "    if ret:\n",
    "        # Separamos los canales\n",
    "        b = frame[:, :, 0]  \n",
    "        g = frame[:, :, 1]  \n",
    "        r = frame[:, :, 2]  \n",
    "        \n",
    "        #Dimensiones imagen de entrada\n",
    "        h, w, c = frame.shape\n",
    "        \n",
    "        # Modificar los valores de un canal específico\n",
    "        # Ejemplo: Hacer el canal rojo más brillante\n",
    "        r = np.clip(r + 100, 0, 255)  # Incrementa los valores del canal de la izquierda en 100, asegurándose de que no se exceda de 255\n",
    "        \n",
    "         # Modificar el canal de la izquierda con un umbral\n",
    "        umbral = 100\n",
    "        r[r < umbral] = 0  # Establece a 0 los valores del canal rizquierdo que están por debajo del umbral\n",
    "        \n",
    "        # Concatenamos en horizontal los tres planos del fotograma\n",
    "        collage = np.hstack((r, g, b))\n",
    "\n",
    "        # Muestra fotograma redimensionando a la mitad para que quepa en pantalla\n",
    "        cv2.imshow('RGB', cv2.resize(collage, (int(w*1.5),int(h/2)),cv2.INTER_NEAREST))\n",
    "\n",
    "    # Detenemos el bucle pulsando ESC\n",
    "    if cv2.waitKey(20) == 27:\n",
    "        break\n",
    "\n",
    "# Libera el objeto de captura\n",
    "vid.release()\n",
    "# Destruye ventanas\n",
    "cv2.destroyAllWindows()"
   ]
  },
  {
   "cell_type": "markdown",
   "metadata": {},
   "source": [
    "TAREA:\n",
    "Pintar círculos en las posiciones del píxel más claro y oscuro de la imagen \n"
   ]
  },
  {
   "cell_type": "code",
   "execution_count": 6,
   "metadata": {},
   "outputs": [],
   "source": [
    "# Captura de video desde la cámara\n",
    "vid = cv2.VideoCapture(0)\n",
    "\n",
    "\n",
    "while True:\n",
    "    # Captura fotograma a fotograma\n",
    "    ret, frame = vid.read()\n",
    "\n",
    "    if ret:\n",
    "        # Convertir a escala de grises para encontrar los valores más claros y oscuros\n",
    "        gray = cv2.cvtColor(frame, cv2.COLOR_BGR2GRAY)\n",
    "\n",
    "        # Encuentra el índice del valor máximo y mínimo\n",
    "        min_val, max_val, min_loc, max_loc = cv2.minMaxLoc(gray)\n",
    "\n",
    "        # Dibuja un círculo en el píxel más oscuro\n",
    "        cv2.circle(frame, min_loc, 10, (0, 0, 255), 2)  # Rojo para el más oscuro\n",
    "\n",
    "        # Dibuja un círculo en el píxel más claro\n",
    "        cv2.circle(frame, max_loc, 10, (255, 0, 0), 2)  # Azul para el más claro\n",
    "         \n",
    "        cv2.imshow('Cam', frame)\n",
    "    \n",
    "    # Detenemos pulsado ESC\n",
    "    if cv2.waitKey(20) == 27:\n",
    "        break\n",
    "\n",
    "# Libera el objeto de captura\n",
    "vid.release()\n",
    "# Destruye ventanas\n",
    "cv2.destroyAllWindows()\n"
   ]
  },
  {
   "cell_type": "markdown",
   "metadata": {},
   "source": [
    "¿Si quisieras hacerlo sobre la zona 8x8 más clara/oscura?"
   ]
  },
  {
   "cell_type": "code",
   "execution_count": 7,
   "metadata": {},
   "outputs": [],
   "source": [
    "# Captura de video desde la cámara\n",
    "vid = cv2.VideoCapture(0)\n",
    "\n",
    "while True:\n",
    "    ret, frame = vid.read()\n",
    "\n",
    "    if ret:\n",
    "        gray = cv2.cvtColor(frame, cv2.COLOR_BGR2GRAY)\n",
    "\n",
    "        # Reducir resolución a bloques de 8x8 para encontrar las zonas más claras y oscuras\n",
    "        small_gray = cv2.resize(gray, (gray.shape[1] // 8, gray.shape[0] // 8))\n",
    "\n",
    "        # Encontrar los valores mínimo y máximo en la imagen reducida\n",
    "        min_val, max_val, min_loc, max_loc = cv2.minMaxLoc(small_gray)\n",
    "\n",
    "        # Escalar las coordenadas a la imagen original\n",
    "        min_loc = (min_loc[0] * 8, min_loc[1] * 8)\n",
    "        max_loc = (max_loc[0] * 8, max_loc[1] * 8)\n",
    "\n",
    "        # Dibujar círculos en las zonas más clara y oscura\n",
    "        cv2.circle(frame, min_loc, 10, (0, 0, 255), 2)  # Rojo para el más oscuro\n",
    "        cv2.circle(frame, max_loc, 10, (255, 0, 0), 2)  # Azul para el más claro\n",
    "\n",
    "        # Mostrar la imagen con los círculos\n",
    "        cv2.imshow('Cam', frame)\n",
    "\n",
    "    if cv2.waitKey(20) == 27:  # Detener con ESC\n",
    "        break\n",
    "    \n",
    "# Libera el objeto de captura\n",
    "vid.release()\n",
    "# Destruye ventanas\n",
    "cv2.destroyAllWindows()\n"
   ]
  },
  {
   "cell_type": "markdown",
   "metadata": {},
   "source": [
    "TAREA: Llevar a cabo una propuesta propia de pop art"
   ]
  },
  {
   "cell_type": "code",
   "execution_count": 13,
   "metadata": {},
   "outputs": [],
   "source": [
    "#Capturar video desde la cámara\n",
    "vid = cv2.VideoCapture(0)\n",
    "\n",
    "#Dimensiones de la cámara\n",
    "w = int(vid.get(cv2.CAP_PROP_FRAME_WIDTH))\n",
    "h = int(vid.get(cv2.CAP_PROP_FRAME_HEIGHT))\n",
    "\n",
    "#Fuerzo a mitad de resolución para ocupar menos pantalla\n",
    "w = int(w / 2)\n",
    "h = int(h / 2)\n",
    "vid.set(cv2.CAP_PROP_FRAME_WIDTH, w)  # En Mac no reacciona a estos comandos\n",
    "vid.set(cv2.CAP_PROP_FRAME_HEIGHT, h)\n",
    "\n",
    "#Imagen conjunta 2x original\n",
    "collage = np.zeros((h * 2, w * 2, 3), dtype=np.uint8)  # Crear el collage vacío\n",
    "\n",
    "while True:\n",
    "    # Captura fotograma a fotograma\n",
    "    ret, frameIN = vid.read()\n",
    "\n",
    "    if ret:\n",
    "        # Redimensionar el frame a la mitad de su tamaño\n",
    "        frame = cv2.resize(frameIN, (w, h), cv2.INTER_NEAREST)\n",
    "\n",
    "        # Asignar cada frame redimensionado a una sección del collage\n",
    "        collage[0:h, 0:w] = frame  # Cuadrante superior izquierdo\n",
    "        collage[0:h, w:w + w] = cv2.bitwise_not(frame)  # Cuadrante superior derecho (invertido)\n",
    "\n",
    "        # Convertir a escala de grises y luego de nuevo a BGR para poder asignarlo\n",
    "        gray = cv2.cvtColor(frame, cv2.COLOR_BGR2GRAY)\n",
    "        edges = cv2.Canny(gray, 100, 200)\n",
    "        collage[h:h + h, 0:w] = cv2.cvtColor(edges, cv2.COLOR_GRAY2BGR)  # Cuadrante inferior izquierdo (gris)\n",
    "\n",
    "        # Aplicar un mapa de color al frame original\n",
    "        collage[h:h + h, w:w + w] = cv2.applyColorMap(frame, cv2.COLORMAP_JET)  # Cuadrante inferior derecho (color map)\n",
    "\n",
    "        # Mostrar la composición en la ventana\n",
    "        cv2.imshow('Cam', collage)\n",
    "\n",
    "    # Detenemos pulsando la tecla ESC\n",
    "    if cv2.waitKey(20) == 27:\n",
    "        break\n",
    "\n",
    "#Liberar la cámara\n",
    "vid.release()\n",
    "#Cerrar todas las ventanas\n",
    "cv2.destroyAllWindows()"
   ]
  }
 ],
 "metadata": {
  "kernelspec": {
   "display_name": "VC_P1",
   "language": "python",
   "name": "python3"
  },
  "language_info": {
   "codemirror_mode": {
    "name": "ipython",
    "version": 3
   },
   "file_extension": ".py",
   "mimetype": "text/x-python",
   "name": "python",
   "nbconvert_exporter": "python",
   "pygments_lexer": "ipython3",
   "version": "3.11.5"
  }
 },
 "nbformat": 4,
 "nbformat_minor": 2
}
